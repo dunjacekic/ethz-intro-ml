{
  "nbformat": 4,
  "nbformat_minor": 0,
  "metadata": {
    "colab": {
      "name": "cnns4food.ipynb",
      "provenance": [],
      "authorship_tag": "ABX9TyPeMQO17UZk20MaKjq0T9th",
      "include_colab_link": true
    },
    "kernelspec": {
      "name": "python3",
      "display_name": "Python 3"
    }
  },
  "cells": [
    {
      "cell_type": "markdown",
      "metadata": {
        "id": "view-in-github",
        "colab_type": "text"
      },
      "source": [
        "<a href=\"https://colab.research.google.com/github/yardenas/ethz-intro-ml/blob/master/project_4/cnns4food.ipynb\" target=\"_parent\"><img src=\"https://colab.research.google.com/assets/colab-badge.svg\" alt=\"Open In Colab\"/></a>"
      ]
    },
    {
      "cell_type": "markdown",
      "metadata": {
        "id": "puVKX0he7mbH",
        "colab_type": "text"
      },
      "source": [
        "# Project 4 - Food Classification using CNNs\n",
        "We will load the food dataset, pre-process it (by adding distortion to the images) extract features using two convolutional layers and finally classify with two fully-connected layers with a softmax classification layer."
      ]
    },
    {
      "cell_type": "code",
      "metadata": {
        "id": "cR1GTIu570Os",
        "colab_type": "code",
        "colab": {}
      },
      "source": [
        "import matplotlib.pyplot as plt\n",
        "import tensorflow as tf\n",
        "import numpy as np\n",
        "import os"
      ],
      "execution_count": 0,
      "outputs": []
    },
    {
      "cell_type": "markdown",
      "metadata": {
        "id": "EUYcy8pv8XPR",
        "colab_type": "text"
      },
      "source": [
        "# Import dataset"
      ]
    },
    {
      "cell_type": "code",
      "metadata": {
        "id": "Rtwu7av58Z67",
        "colab_type": "code",
        "colab": {}
      },
      "source": [
        "from google.colab import drive\n",
        "drive.mount()"
      ],
      "execution_count": 0,
      "outputs": []
    }
  ]
}