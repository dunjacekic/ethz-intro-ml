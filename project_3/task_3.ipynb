{
 "cells": [
  {
   "cell_type": "markdown",
   "metadata": {},
   "source": [
    "Import modules"
   ]
  },
  {
   "cell_type": "code",
   "execution_count": 2,
   "metadata": {},
   "outputs": [],
   "source": [
    "import numpy as np\n",
    "import pandas as pd\n",
    "from sklearn.experimental import enable_hist_gradient_boosting  # noqa\n",
    "from sklearn.ensemble import HistGradientBoostingClassifier, StackingClassifier\n",
    "from sklearn.ensemble._hist_gradient_boosting import loss\n",
    "from sklearn.metrics import f1_score\n",
    "from sklearn.neural_network import MLPClassifier\n",
    "from sklearn.preprocessing import OneHotEncoder\n"
   ]
  },
  {
   "cell_type": "markdown",
   "metadata": {},
   "source": [
    "Custom Loss Function for HistGradientBoostingClassifier"
   ]
  },
  {
   "cell_type": "code",
   "execution_count": 3,
   "metadata": {},
   "outputs": [],
   "source": [
    "class MyBinaryCrossEntropy(loss.BinaryCrossEntropy):\n",
    "\n",
    "    def __init__(self):\n",
    "\n",
    "        super().__init__()\n",
    "\n",
    "    def __call__(self, y_true, raw_predictions, average=True):\n",
    "\n",
    "        # shape (1, n_samples) --> (n_samples,). reshape(-1) is more likely to\n",
    "        # return a view.\n",
    "        raw_predictions = raw_predictions.reshape(-1)\n",
    "        # logaddexp(0, x) = log(1 + exp(x))\n",
    "        loss = 1 - f1_score(y_true, raw_predictions)\n",
    "        return loss\n",
    "\n",
    "def f1_loss(y_true, y_pred):\n",
    "\n",
    "    return 1 - f1_score(y_true, y_pred)\n",
    "\n",
    "class MyHistGradBoost(HistGradientBoostingClassifier):\n",
    "\n",
    "    def __init__(self, loss='auto', learning_rate=0.1, max_iter=100,\n",
    "                 max_leaf_nodes=31, max_depth=None, min_samples_leaf=20,\n",
    "                 l2_regularization=0., max_bins=255, warm_start=False,\n",
    "                 scoring=None, validation_fraction=0.1, n_iter_no_change=None,\n",
    "                 tol=1e-7, verbose=0, random_state=None):\n",
    "                 \n",
    "        super(HistGradientBoostingClassifier, self).__init__(\n",
    "            loss=loss, learning_rate=learning_rate, max_iter=max_iter,\n",
    "            max_leaf_nodes=max_leaf_nodes, max_depth=max_depth,\n",
    "            min_samples_leaf=min_samples_leaf,\n",
    "            l2_regularization=l2_regularization, max_bins=max_bins,\n",
    "            warm_start=warm_start, scoring=scoring,\n",
    "            validation_fraction=validation_fraction,\n",
    "            n_iter_no_change=n_iter_no_change, tol=tol, verbose=verbose,\n",
    "            random_state=random_state)\n",
    "\n",
    "    def _get_loss(self):\n",
    "\n",
    "        return MyBinaryCrossEntropy()\n"
   ]
  },
  {
   "cell_type": "markdown",
   "metadata": {},
   "source": [
    "Process data"
   ]
  },
  {
   "cell_type": "code",
   "execution_count": 4,
   "metadata": {},
   "outputs": [],
   "source": [
    "def encode_seq(X):\n",
    "    # Encode sequence with one-hot\n",
    "\n",
    "    enc = OneHotEncoder(handle_unknown='ignore')\n",
    "    new_X = list(X.copy().apply(list))\n",
    "\n",
    "    enc.fit(new_X)\n",
    "    enc_X = enc.transform(new_X).toarray()\n",
    "\n",
    "    return enc_X\n",
    "\n",
    "\n",
    "def read_data():\n",
    "\n",
    "    # Read data\n",
    "    train_raw = pd.read_csv('train.csv')\n",
    "    test_raw = pd.read_csv('test.csv')\n",
    "\n",
    "    # Extract data\n",
    "    train_X_raw = train_raw['Sequence']\n",
    "    train_y = train_raw['Active']\n",
    "\n",
    "    test_X_raw = test_raw['Sequence']\n",
    "\n",
    "    # Process sequence\n",
    "    train_X = encode_seq(train_X_raw)\n",
    "    test_X = encode_seq(test_X_raw)\n",
    "\n",
    "    return train_X, train_y, test_X"
   ]
  },
  {
   "cell_type": "code",
   "execution_count": 5,
   "metadata": {},
   "outputs": [],
   "source": [
    "train_X, train_y, test_X = read_data()"
   ]
  },
  {
   "cell_type": "markdown",
   "metadata": {},
   "source": [
    "Train Model"
   ]
  },
  {
   "cell_type": "code",
   "execution_count": 9,
   "metadata": {},
   "outputs": [
    {
     "output_type": "stream",
     "name": "stdout",
     "text": "Score is: 0.986\n\n"
    }
   ],
   "source": [
    "# Stack estimators\n",
    "estimators = [('mlp', MLPClassifier(hidden_layer_sizes=(80,))), ('hgb', MyHistGradBoost(max_iter=500))]\n",
    "\n",
    "clf = StackingClassifier(estimators=estimators, n_jobs=2)\n",
    "clf.fit(train_X, train_y)\n",
    "print('Score is: %.3f\\n' % f1_score(clf.predict(train_X), train_y))"
   ]
  },
  {
   "cell_type": "markdown",
   "metadata": {},
   "source": [
    "Predict"
   ]
  },
  {
   "cell_type": "code",
   "execution_count": 10,
   "metadata": {},
   "outputs": [],
   "source": [
    "test_y = clf.predict(test_X)\n",
    "np.savetxt('output.csv', test_y, fmt='%d')"
   ]
  },
  {
   "cell_type": "code",
   "execution_count": null,
   "metadata": {},
   "outputs": [],
   "source": []
  }
 ],
 "metadata": {
  "kernelspec": {
   "display_name": "Python 3.8.2 64-bit",
   "language": "python",
   "name": "python38264bitdebca7b4722243bf9e6c9f2b5755d93f"
  },
  "language_info": {
   "codemirror_mode": {
    "name": "ipython",
    "version": 3
   },
   "file_extension": ".py",
   "mimetype": "text/x-python",
   "name": "python",
   "nbconvert_exporter": "python",
   "pygments_lexer": "ipython3",
   "version": "3.8.2-final"
  }
 },
 "nbformat": 4,
 "nbformat_minor": 4
}