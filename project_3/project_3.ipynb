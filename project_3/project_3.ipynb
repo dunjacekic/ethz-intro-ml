{
 "cells": [
  {
   "cell_type": "markdown",
   "metadata": {},
   "source": [
    "# Intro ML - Project 3"
   ]
  },
  {
   "cell_type": "markdown",
   "metadata": {},
   "source": [
    "## Load data"
   ]
  },
  {
   "cell_type": "code",
   "execution_count": 1,
   "metadata": {},
   "outputs": [],
   "source": [
    "import numpy as np\n",
    "import pandas as pd\n",
    "train_data = pd.read_csv('train.csv')\n",
    "test_data = pd.read_csv('test.csv')"
   ]
  },
  {
   "cell_type": "markdown",
   "metadata": {},
   "source": [
    "## Feature Extraction"
   ]
  },
  {
   "cell_type": "code",
   "execution_count": 2,
   "metadata": {},
   "outputs": [],
   "source": [
    "def feature_extraction(data):\n",
    "    features = []\n",
    "    for sequence in data['Sequence'].tolist():\n",
    "        features.append([token for token in sequence])\n",
    "    return features"
   ]
  },
  {
   "cell_type": "code",
   "execution_count": 3,
   "metadata": {},
   "outputs": [],
   "source": [
    "from sklearn.preprocessing import OneHotEncoder\n",
    "\n",
    "encoder = OneHotEncoder(sparse=False)\n",
    "X_train = encoder.fit_transform(feature_extraction(train_data))\n",
    "X_test = encoder.transform(feature_extraction(test_data))\n",
    "y_train = train_data['Active'].to_numpy()"
   ]
  },
  {
   "cell_type": "markdown",
   "metadata": {},
   "source": [
    "## Create Matching Size Datasets\n",
    "We have a lot of samples (112000) so we can split our data to couple of datasets, train an independant model on each, and finally merge them together."
   ]
  },
  {
   "cell_type": "code",
   "execution_count": 4,
   "metadata": {},
   "outputs": [],
   "source": [
    "from collections import Counter\n",
    "import matplotlib.pylab as plt\n",
    "def counter_histogram(counter):\n",
    "    labels, values = zip(*counter.items())\n",
    "    indexes = np.arange(len(labels))\n",
    "    width = 1\n",
    "    plt.bar(indexes, values, width)\n",
    "    plt.xticks(indexes + width * 0.5, labels)"
   ]
  },
  {
   "cell_type": "code",
   "execution_count": 5,
   "metadata": {},
   "outputs": [
    {
     "name": "stdout",
     "output_type": "stream",
     "text": [
      "Class distribution:  Counter({0: 107787, 1: 4213})\n"
     ]
    },
    {
     "data": {
      "image/png": "[encoded data removed]",
      "text/plain": [
       "<Figure size 432x288 with 1 Axes>"
      ]
     },
     "metadata": {
      "needs_background": "light"
     },
     "output_type": "display_data"
    }
   ],
   "source": [
    "print('Class distribution: ', Counter(y_train.ravel()))\n",
    "counter_histogram(Counter(y_train.ravel()))"
   ]
  },
  {
   "cell_type": "code",
   "execution_count": 6,
   "metadata": {},
   "outputs": [
    {
     "name": "stdout",
     "output_type": "stream",
     "text": [
      "Class distribution of dataset 0:  Counter({0: 107787, 1: 4213})\n"
     ]
    }
   ],
   "source": [
    "from sklearn.utils import resample\n",
    "def create_datasets(X_train, y_train, ratio=100):\n",
    "    datasets = []\n",
    "    majority = (X_train[y_train == 0], y_train[y_train == 0])\n",
    "    minority = (X_train[y_train == 1], y_train[y_train == 1])\n",
    "    if minority[0].shape[0] * ratio > majority[0].shape[0]:\n",
    "        return [(X_train, y_train)]\n",
    "    for i in range(majority[0].shape[0] // (minority[0].shape[0] * ratio)):\n",
    "        x_train, y_train = resample(*majority,\n",
    "                                    replace=False, n_samples=(minority[0].shape[0] * ratio))\n",
    "        x_train = np.concatenate([x_train, minority[0]], axis=0)\n",
    "        y_train = np.concatenate([y_train, minority[1]], axis=0)\n",
    "        datasets.append((x_train, y_train))\n",
    "    return datasets\n",
    "\n",
    "datasets = create_datasets(X_train, y_train)\n",
    "for i, dataset in enumerate(datasets):\n",
    "    print('Class distribution of dataset {}: '.format(i), Counter(dataset[1].ravel()))"
   ]
  },
  {
   "cell_type": "markdown",
   "metadata": {},
   "source": [
    "## Learning Pipeline"
   ]
  },
  {
   "cell_type": "code",
   "execution_count": 10,
   "metadata": {},
   "outputs": [
    {
     "name": "stdout",
     "output_type": "stream",
     "text": [
      "Model 0 cross-validation.\n"
     ]
    },
    {
     "name": "stderr",
     "output_type": "stream",
     "text": [
      "[Parallel(n_jobs=-1)]: Using backend LokyBackend with 4 concurrent workers.\n"
     ]
    },
    {
     "name": "stdout",
     "output_type": "stream",
     "text": [
      "Cross-validation score is 0.887, standard deviation is 0.013\n"
     ]
    },
    {
     "name": "stderr",
     "output_type": "stream",
     "text": [
      "[Parallel(n_jobs=-1)]: Done  10 out of  10 | elapsed:  2.0min finished\n"
     ]
    }
   ],
   "source": [
    "from sklearn.pipeline import make_pipeline\n",
    "from sklearn.model_selection import (StratifiedKFold,\n",
    "    cross_val_score, )\n",
    "from sklearn.experimental import enable_hist_gradient_boosting\n",
    "from sklearn.ensemble import HistGradientBoostingClassifier\n",
    "\n",
    "for i, dataset in enumerate(datasets):\n",
    "    print(\"Model {} cross-validation.\".format(i))\n",
    "    x_train_match = dataset[0]\n",
    "    y_train_match = dataset[1]\n",
    "    pipeline = make_pipeline(\n",
    "        HistGradientBoostingClassifier(\n",
    "                    learning_rate=0.21,\n",
    "                    max_iter=200,\n",
    "                    max_leaf_nodes=100,\n",
    "                    min_samples_leaf=100)\n",
    "    )\n",
    "    cv = StratifiedKFold(n_splits=10, shuffle=True)\n",
    "    scores = cross_val_score(pipeline, x_train_match, y_train_match,\n",
    "                            cv=cv,\n",
    "                            scoring='f1',\n",
    "                            n_jobs=-1,\n",
    "                            verbose=True)\n",
    "    print(\"Cross-validation score is {score:.3f},\"\n",
    "          \" standard deviation is {err:.3f}\"\n",
    "      .format(score = scores.mean(), err = scores.std()))"
   ]
  },
  {
   "cell_type": "markdown",
   "metadata": {},
   "source": [
    "## Fit on Data and Make Predictions"
   ]
  },
  {
   "cell_type": "code",
   "execution_count": 20,
   "metadata": {},
   "outputs": [
    {
     "name": "stdout",
     "output_type": "stream",
     "text": [
      "Model 0 fitting to data.\n"
     ]
    }
   ],
   "source": [
    "class VotingClassifier(object):\n",
    "    \"\"\" Implements a voting classifier for pre-trained classifiers\"\"\"\n",
    "\n",
    "    def __init__(self, estimators):\n",
    "        self.estimators = estimators\n",
    "\n",
    "    def predict(self, X):\n",
    "        # get values\n",
    "        Y = np.zeros([X.shape[0], len(self.estimators)], dtype=int)\n",
    "        for i, clf in enumerate(self.estimators):\n",
    "            Y[:, i] = clf.predict(X)\n",
    "        # apply voting \n",
    "        y = np.zeros(X.shape[0])\n",
    "        for i in range(X.shape[0]):\n",
    "            y[i] = np.argmax(np.bincount(Y[i,:]))\n",
    "        return y.astype(np.int)\n",
    "\n",
    "estimators = []\n",
    "for i, dataset in enumerate(datasets):\n",
    "    print(\"Model {} fitting to data.\".format(i))\n",
    "    x_train_match = dataset[0]\n",
    "    y_train_match = dataset[1]\n",
    "    estimators.append(\n",
    "        HistGradientBoostingClassifier(\n",
    "                    learning_rate=0.21,\n",
    "                    max_iter=200,\n",
    "                    max_leaf_nodes=100,\n",
    "                    min_samples_leaf=100)\n",
    "    )\n",
    "    estimators[i].fit(x_train_match, y_train_match)\n",
    "\n",
    "ensemble_votes = VotingClassifier(estimators)"
   ]
  },
  {
   "cell_type": "code",
   "execution_count": 23,
   "metadata": {},
   "outputs": [],
   "source": [
    "preds = ensemble_votes.predict(X_test)\n",
    "df = pd.DataFrame(preds)\n",
    "df.to_csv('prediction.csv', index=False, header=False)"
   ]
  },
  {
   "cell_type": "code",
   "execution_count": 24,
   "metadata": {},
   "outputs": [
    {
     "name": "stdout",
     "output_type": "stream",
     "text": [
      "Class distribution:  Counter({0: 107787, 1: 4213})\n",
      "Prediction distribution:  Counter({0: 46278, 1: 1722})\n"
     ]
    },
    {
     "data": {
      "text/plain": [
       "0.9984569732937686"
      ]
     },
     "execution_count": 24,
     "metadata": {},
     "output_type": "execute_result"
    },
    {
     "data": {
      "image/png": "[encoded data removed]",
      "text/plain": [
       "<Figure size 432x288 with 1 Axes>"
      ]
     },
     "metadata": {
      "needs_background": "light"
     },
     "output_type": "display_data"
    }
   ],
   "source": [
    "counter_histogram(Counter(y_train.ravel()))\n",
    "counter_histogram(Counter(preds.ravel()))\n",
    "\n",
    "print('Class distribution: ', Counter(y_train.ravel()))\n",
    "print('Prediction distribution: ', Counter(preds.ravel()))\n",
    "from sklearn.metrics import f1_score\n",
    "preid = ensemble_votes.predict(X_train)\n",
    "f1_score(y_train, preid)"
   ]
  }
 ],
 "metadata": {
  "kernelspec": {
   "display_name": "Python 3",
   "language": "python",
   "name": "python3"
  },
  "language_info": {
   "codemirror_mode": {
    "name": "ipython",
    "version": 3
   },
   "file_extension": ".py",
   "mimetype": "text/x-python",
   "name": "python",
   "nbconvert_exporter": "python",
   "pygments_lexer": "ipython3",
   "version": "3.6.10"
  }
 },
 "nbformat": 4,
 "nbformat_minor": 2
}
