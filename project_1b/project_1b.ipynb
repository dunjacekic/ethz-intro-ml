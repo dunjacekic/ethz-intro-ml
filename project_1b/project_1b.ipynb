{
 "cells": [
  {
   "cell_type": "markdown",
   "metadata": {},
   "source": [
    "# Project 1b\n"
   ]
  },
  {
   "cell_type": "markdown",
   "metadata": {},
   "source": [
    "## Load data"
   ]
  },
  {
   "cell_type": "code",
   "execution_count": 1,
   "metadata": {},
   "outputs": [],
   "source": [
    "import numpy as np\n",
    "import pandas as pd\n",
    "import matplotlib.pylab as ply\n",
    "train_data = pd.read_csv('train.csv').drop('Id', axis=1)"
   ]
  },
  {
   "cell_type": "code",
   "execution_count": 2,
   "metadata": {},
   "outputs": [],
   "source": [
    "X_train = train_data.iloc[:, 1:].to_numpy()\n",
    "y_train = train_data['y'].to_numpy()"
   ]
  },
  {
   "cell_type": "markdown",
   "metadata": {},
   "source": [
    "## Build Transformer"
   ]
  },
  {
   "cell_type": "code",
   "execution_count": 45,
   "metadata": {},
   "outputs": [],
   "source": [
    "def funky_transform(X):\n",
    "    linear = X\n",
    "    quadratic = X ** 2\n",
    "    exponential = np.exp(X)\n",
    "    cosine = np.cos(X)\n",
    "    constant = np.ones(X.shape[0])\n",
    "    constant = constant[:, np.newaxis]\n",
    "    return np.hstack((linear, quadratic, exponential, cosine, constant))"
   ]
  },
  {
   "cell_type": "markdown",
   "metadata": {},
   "source": [
    "## Regress"
   ]
  },
  {
   "cell_type": "code",
   "execution_count": 42,
   "metadata": {},
   "outputs": [
    {
     "name": "stdout",
     "output_type": "stream",
     "text": [
      "Cross-validation score is 4.922, standart deviation is 0.552\n"
     ]
    }
   ],
   "source": [
    "from sklearn.pipeline import make_pipeline\n",
    "from sklearn.model_selection import (GridSearchCV,\n",
    "    cross_val_score, KFold)\n",
    "from sklearn.preprocessing import StandardScaler\n",
    "from sklearn.preprocessing import FunctionTransformer\n",
    "from sklearn.linear_model import Ridge\n",
    "\n",
    "pipeline = make_pipeline(StandardScaler(),\n",
    "                         FunctionTransformer(\n",
    "                             funky_transform,\n",
    "                             validate=True),\n",
    "                         Ridge())\n",
    "parameter_space = {\n",
    "    'ridge__alpha': np.logspace(-2, 2, 10)\n",
    "}\n",
    "inner_cv = KFold(n_splits=7, shuffle=True)\n",
    "outer_cv = KFold(n_splits=7, shuffle=True)\n",
    "classifier = GridSearchCV(pipeline, parameter_space,\n",
    "                               n_jobs=1, scoring='neg_mean_squared_error',\n",
    "                               iid=True,\n",
    "                               cv=inner_cv)\n",
    "scores = cross_val_score(classifier, X_train, y_train.ravel(),\n",
    "                            cv=outer_cv,\n",
    "                            scoring='neg_mean_squared_error',\n",
    "                            n_jobs=1)\n",
    "print(\"Cross-validation score is {score:.3f},\"\n",
    "      \" standart deviation is {err:.3f}\"\n",
    "      .format(score = np.sqrt(-scores).mean(), err = np.sqrt(-scores).std()))\n",
    "\n",
    "classifier = classifier.fit(X_train, y_train.ravel())\n",
    "coefficients = classifier.best_estimator_['ridge'].coef_"
   ]
  },
  {
   "cell_type": "markdown",
   "metadata": {},
   "source": [
    "## Log to solution.csv file"
   ]
  },
  {
   "cell_type": "code",
   "execution_count": 44,
   "metadata": {},
   "outputs": [],
   "source": [
    "df = pd.DataFrame(coefficients)\n",
    "df.to_csv('solution.csv', index=False, header=False)"
   ]
  }
 ],
 "metadata": {
  "kernelspec": {
   "display_name": "Python 3",
   "language": "python",
   "name": "python3"
  },
  "language_info": {
   "codemirror_mode": {
    "name": "ipython",
    "version": 3
   },
   "file_extension": ".py",
   "mimetype": "text/x-python",
   "name": "python",
   "nbconvert_exporter": "python",
   "pygments_lexer": "ipython3",
   "version": "3.7.3"
  }
 },
 "nbformat": 4,
 "nbformat_minor": 2
}
